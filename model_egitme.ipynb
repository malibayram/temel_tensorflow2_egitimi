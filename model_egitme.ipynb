{
 "cells": [
  {
   "cell_type": "code",
   "execution_count": 64,
   "metadata": {},
   "outputs": [],
   "source": [
    "import numpy as np\n",
    "import pandas as pd\n",
    "import json\n",
    "\n",
    "from tensorflow.python.keras.models import Sequential\n",
    "from tensorflow.python.keras.layers import Dense, GRU, Embedding, CuDNNGRU\n",
    "from tensorflow.keras.optimizers import Adam"
   ]
  },
  {
   "cell_type": "code",
   "execution_count": 65,
   "metadata": {},
   "outputs": [],
   "source": [
    "dataframe = pd.read_csv('yorumlar.csv', sep = \"\\t\")\n",
    "target = dataframe['Puan'].values.tolist()\n",
    "data = dataframe['Yorum'].values.tolist()"
   ]
  },
  {
   "cell_type": "code",
   "execution_count": 66,
   "metadata": {},
   "outputs": [
    {
     "output_type": "execute_result",
     "data": {
      "text/plain": [
       "       Puan                                              Yorum\n",
       "0       1.0  Hızlı ve özenli kargo bu fiyata gayet iyi bir ...\n",
       "1       1.0                Harika bir kitqp,şiddetle tavsiye??\n",
       "2       1.0  Şahane bir plak ! Mermer baskısı o kadar şık o...\n",
       "3       1.0  İnanılmaz keyifli bir oyun. Hem heyecan hem ke...\n",
       "4       1.0  Alısverışten çok memnun kaldım eksıksız. Ç sor...\n",
       "...     ...                                                ...\n",
       "28978   1.0  yer kısıtı olanlar için çok kullanışlı bir ürü...\n",
       "28979   0.0  içi boş bir kitap her sayfa birbirinden alakas...\n",
       "28980   1.0                                        uygun fiyat\n",
       "28981   1.0  Ürün elime ulaştı. Henüz okumadım ama firma ge...\n",
       "28982   0.0  Klasik Türk filmi. Türkan Şoray ,Ediz Hun aşkı...\n",
       "\n",
       "[28983 rows x 2 columns]"
      ],
      "text/html": "<div>\n<style scoped>\n    .dataframe tbody tr th:only-of-type {\n        vertical-align: middle;\n    }\n\n    .dataframe tbody tr th {\n        vertical-align: top;\n    }\n\n    .dataframe thead th {\n        text-align: right;\n    }\n</style>\n<table border=\"1\" class=\"dataframe\">\n  <thead>\n    <tr style=\"text-align: right;\">\n      <th></th>\n      <th>Puan</th>\n      <th>Yorum</th>\n    </tr>\n  </thead>\n  <tbody>\n    <tr>\n      <th>0</th>\n      <td>1.0</td>\n      <td>Hızlı ve özenli kargo bu fiyata gayet iyi bir ...</td>\n    </tr>\n    <tr>\n      <th>1</th>\n      <td>1.0</td>\n      <td>Harika bir kitqp,şiddetle tavsiye??</td>\n    </tr>\n    <tr>\n      <th>2</th>\n      <td>1.0</td>\n      <td>Şahane bir plak ! Mermer baskısı o kadar şık o...</td>\n    </tr>\n    <tr>\n      <th>3</th>\n      <td>1.0</td>\n      <td>İnanılmaz keyifli bir oyun. Hem heyecan hem ke...</td>\n    </tr>\n    <tr>\n      <th>4</th>\n      <td>1.0</td>\n      <td>Alısverışten çok memnun kaldım eksıksız. Ç sor...</td>\n    </tr>\n    <tr>\n      <th>...</th>\n      <td>...</td>\n      <td>...</td>\n    </tr>\n    <tr>\n      <th>28978</th>\n      <td>1.0</td>\n      <td>yer kısıtı olanlar için çok kullanışlı bir ürü...</td>\n    </tr>\n    <tr>\n      <th>28979</th>\n      <td>0.0</td>\n      <td>içi boş bir kitap her sayfa birbirinden alakas...</td>\n    </tr>\n    <tr>\n      <th>28980</th>\n      <td>1.0</td>\n      <td>uygun fiyat</td>\n    </tr>\n    <tr>\n      <th>28981</th>\n      <td>1.0</td>\n      <td>Ürün elime ulaştı. Henüz okumadım ama firma ge...</td>\n    </tr>\n    <tr>\n      <th>28982</th>\n      <td>0.0</td>\n      <td>Klasik Türk filmi. Türkan Şoray ,Ediz Hun aşkı...</td>\n    </tr>\n  </tbody>\n</table>\n<p>28983 rows × 2 columns</p>\n</div>"
     },
     "metadata": {},
     "execution_count": 66
    }
   ],
   "source": [
    "dataframe"
   ]
  },
  {
   "cell_type": "code",
   "execution_count": 67,
   "metadata": {},
   "outputs": [],
   "source": [
    "cutoff = int(len(data) * 0.85)\n",
    "x_train, x_test = data[:cutoff], data[cutoff:]\n",
    "y_train, y_test = target[:cutoff], target[cutoff:]"
   ]
  },
  {
   "cell_type": "code",
   "execution_count": 68,
   "metadata": {},
   "outputs": [
    {
     "output_type": "execute_result",
     "data": {
      "text/plain": [
       "27533"
      ]
     },
     "metadata": {},
     "execution_count": 68
    }
   ],
   "source": [
    "len(x_train)"
   ]
  },
  {
   "cell_type": "code",
   "execution_count": 69,
   "metadata": {},
   "outputs": [
    {
     "output_type": "execute_result",
     "data": {
      "text/plain": [
       "'Dışı veya içi herşeyi mükemmel yeni yeni okumaya başladım fakat kalitesini anladım.'"
      ]
     },
     "metadata": {},
     "execution_count": 69
    }
   ],
   "source": [
    "x_train[245]"
   ]
  },
  {
   "cell_type": "code",
   "execution_count": null,
   "metadata": {},
   "outputs": [],
   "source": []
  },
  {
   "cell_type": "code",
   "execution_count": 70,
   "metadata": {},
   "outputs": [],
   "source": [
    "with open('tokenizer.json') as json_dosyasi:\n",
    "    json_tokenizer = json.load(json_dosyasi)"
   ]
  },
  {
   "cell_type": "code",
   "execution_count": 71,
   "metadata": {},
   "outputs": [
    {
     "output_type": "execute_result",
     "data": {
      "text/plain": [
       "5"
      ]
     },
     "metadata": {},
     "execution_count": 71
    }
   ],
   "source": [
    "json_tokenizer['güzel']"
   ]
  },
  {
   "cell_type": "code",
   "execution_count": 72,
   "metadata": {},
   "outputs": [],
   "source": [
    "def tokenlestir(yorumListesi):\n",
    "    y_yorumlar = []\n",
    "    for yorum in yorumListesi:\n",
    "        y_yorum = []\n",
    "        for kelime in yorum.split():\n",
    "            if (len(y_yorum) < 50 and kelime in json_tokenizer):\n",
    "                y_yorum.append(json_tokenizer[kelime])\n",
    "                \n",
    "        if (len(y_yorum) < 50):\n",
    "            sifirlar = list(np.zeros(50 - len(y_yorum), dtype = int))\n",
    "            y_yorum = sifirlar + y_yorum\n",
    "            \n",
    "        y_yorumlar.append(y_yorum)\n",
    "    return np.array(y_yorumlar, dtype = np.dtype(np.int32))"
   ]
  },
  {
   "cell_type": "code",
   "execution_count": 73,
   "metadata": {},
   "outputs": [],
   "source": [
    "egitim_kume = tokenlestir(x_train)"
   ]
  },
  {
   "cell_type": "code",
   "execution_count": 74,
   "metadata": {},
   "outputs": [
    {
     "output_type": "execute_result",
     "data": {
      "text/plain": [
       "array([   0,    0,    0,    0,    0,    0,    0,    0,    0,    0,    0,\n",
       "          0,    0,    0,    0,    0,    0,    0,    0,    0,    0,    0,\n",
       "          0,    0,    0,    0,    0,    0,    0,    0,    0,    0,    0,\n",
       "          0,    0,    0,    0,    0,    0,    0,  383, 1101, 1557,   59,\n",
       "         76,   76,  148,  305,   85,  991], dtype=int32)"
      ]
     },
     "metadata": {},
     "execution_count": 74
    }
   ],
   "source": [
    "egitim_kume[245]"
   ]
  },
  {
   "cell_type": "code",
   "execution_count": 75,
   "metadata": {},
   "outputs": [],
   "source": [
    "test_kume = tokenlestir(x_test)"
   ]
  },
  {
   "cell_type": "code",
   "execution_count": null,
   "metadata": {},
   "outputs": [],
   "source": []
  },
  {
   "cell_type": "code",
   "execution_count": 76,
   "metadata": {},
   "outputs": [
    {
     "output_type": "stream",
     "name": "stdout",
     "text": [
      "Model: \"sequential_3\"\n_________________________________________________________________\nLayer (type)                 Output Shape              Param #   \n=================================================================\nembedding_layer (Embedding)  (None, 50, 50)            500050    \n_________________________________________________________________\ngru_9 (GRU)                  (None, 50, 16)            3216      \n_________________________________________________________________\ngru_10 (GRU)                 (None, 50, 8)             600       \n_________________________________________________________________\ngru_11 (GRU)                 (None, 4)                 156       \n_________________________________________________________________\ndense_3 (Dense)              (None, 1)                 5         \n=================================================================\nTotal params: 504,027\nTrainable params: 504,027\nNon-trainable params: 0\n_________________________________________________________________\n"
     ]
    }
   ],
   "source": [
    "model = Sequential()\n",
    "\n",
    "embedding_size = 50\n",
    "\n",
    "model.add(Embedding(input_dim=10001,\n",
    "                    output_dim=embedding_size,\n",
    "                    input_length=50,\n",
    "                    name='embedding_layer'))\n",
    "\n",
    "model.add(GRU(units=16, return_sequences=True))\n",
    "model.add(GRU(units=8, return_sequences=True))\n",
    "model.add(GRU(units=4))\n",
    "model.add(Dense(1, activation='sigmoid'))\n",
    "\n",
    "optimizer = Adam(lr=1e-3)\n",
    "\n",
    "model.compile(loss='binary_crossentropy',\n",
    "              optimizer=optimizer,\n",
    "              metrics=['accuracy'])\n",
    "\n",
    "model.summary()"
   ]
  },
  {
   "cell_type": "code",
   "execution_count": 77,
   "metadata": {},
   "outputs": [],
   "source": [
    "n_y_train = np.array(y_train)"
   ]
  },
  {
   "cell_type": "code",
   "execution_count": 78,
   "metadata": {},
   "outputs": [
    {
     "output_type": "stream",
     "name": "stdout",
     "text": [
      "Epoch 1/5\n",
      "108/108 [==============================] - 18s 108ms/step - loss: 0.4914 - accuracy: 0.9122\n",
      "Epoch 2/5\n",
      "108/108 [==============================] - 12s 110ms/step - loss: 0.2336 - accuracy: 0.9316\n",
      "Epoch 3/5\n",
      "108/108 [==============================] - 12s 115ms/step - loss: 0.1614 - accuracy: 0.9502\n",
      "Epoch 4/5\n",
      "108/108 [==============================] - 11s 97ms/step - loss: 0.1238 - accuracy: 0.9651\n",
      "Epoch 5/5\n",
      "108/108 [==============================] - 11s 99ms/step - loss: 0.0935 - accuracy: 0.9767\n"
     ]
    },
    {
     "output_type": "execute_result",
     "data": {
      "text/plain": [
       "<tensorflow.python.keras.callbacks.History at 0x7f976bcde390>"
      ]
     },
     "metadata": {},
     "execution_count": 78
    }
   ],
   "source": [
    "model.fit(egitim_kume, n_y_train, epochs = 5, batch_size = 256)"
   ]
  },
  {
   "cell_type": "code",
   "execution_count": 79,
   "metadata": {},
   "outputs": [],
   "source": [
    "n_y_test = np.array(y_test)"
   ]
  },
  {
   "cell_type": "code",
   "execution_count": 80,
   "metadata": {},
   "outputs": [
    {
     "output_type": "stream",
     "name": "stdout",
     "text": [
      "46/46 [==============================] - 2s 23ms/step - loss: 0.0703 - accuracy: 0.9869\n"
     ]
    },
    {
     "output_type": "execute_result",
     "data": {
      "text/plain": [
       "[0.07032211124897003, 0.9868965744972229]"
      ]
     },
     "metadata": {},
     "execution_count": 80
    }
   ],
   "source": [
    "model.evaluate(test_kume, n_y_test)"
   ]
  },
  {
   "cell_type": "code",
   "execution_count": 81,
   "metadata": {},
   "outputs": [],
   "source": [
    "model.save('25_mart_2021.h5')"
   ]
  },
  {
   "cell_type": "code",
   "execution_count": 82,
   "metadata": {},
   "outputs": [],
   "source": [
    "text1 = \"bu ürün çok iyi herkese tavsiye ederim\"\n",
    "text2 = \"kargo çok hızlı aynı gün elime geçti\"\n",
    "text3 = \"büyük bir hayal kırıklığı yaşadım bu ürün bu markaya yakışmamış\"\n",
    "text4 = \"gitar kursuna yeni başladım. ne almalıyım diye bakınırken Hepsiburada da bu ürünü gördüm. fiyatı ve hediyeleri ile birlikte çok iyi fiyat. siyah olmasıda benim için ayrı güzel.\"\n",
    "text5 = \"tasarımı harika ancak kargo çok geç geldi ve ürün açılmıştı tavsiye etmem\"\n",
    "text6 = \"hiç resimde gösterildiği gibi değil\"\n",
    "text7 = \"kötü yorumlar gözümü korkutmuştu ancak hiçbir sorun yaşamadım teşekkürler\"\n",
    "text8 = \"hiç bu kadar kötü bir satıcıya denk gelmemiştim ürünü geri iade ediyorum\"\n",
    "text9 = \"tam bir fiyat performans ürünü\"\n",
    "text10 = \"beklediğim gibi çıkmadı\"\n",
    "yazilar = [text1, text2, text3, text4, text5, text6, text7, text8, text9, text10]"
   ]
  },
  {
   "cell_type": "code",
   "execution_count": 83,
   "metadata": {},
   "outputs": [],
   "source": [
    "deneme_kume = tokenlestir(yazilar)"
   ]
  },
  {
   "cell_type": "code",
   "execution_count": 84,
   "metadata": {},
   "outputs": [
    {
     "output_type": "execute_result",
     "data": {
      "text/plain": [
       "array([   0,    0,    0,    0,    0,    0,    0,    0,    0,    0,    0,\n",
       "          0,    0,    0,    0,    0,    0,    0,    0,    0,    0,    0,\n",
       "          0,    0,    0,    0,    0,    0,    0,    0,  152, 3872,   76,\n",
       "         66,   86,   16,    6,   67,  127,    3, 4443,   33,  285,    2,\n",
       "         11,  919, 3228,  150,    7,  247], dtype=int32)"
      ]
     },
     "metadata": {},
     "execution_count": 84
    }
   ],
   "source": [
    "deneme_kume[3]"
   ]
  },
  {
   "cell_type": "code",
   "execution_count": 85,
   "metadata": {},
   "outputs": [],
   "source": [
    "sonuc = model.predict(deneme_kume)"
   ]
  },
  {
   "cell_type": "code",
   "execution_count": 86,
   "metadata": {},
   "outputs": [
    {
     "output_type": "execute_result",
     "data": {
      "text/plain": [
       "array([[0.98209476],\n",
       "       [0.98137414],\n",
       "       [0.12100825],\n",
       "       [0.98195505],\n",
       "       [0.22872421],\n",
       "       [0.33732605],\n",
       "       [0.9516531 ],\n",
       "       [0.8757956 ],\n",
       "       [0.9821422 ],\n",
       "       [0.191906  ]], dtype=float32)"
      ]
     },
     "metadata": {},
     "execution_count": 86
    }
   ],
   "source": [
    "sonuc"
   ]
  },
  {
   "cell_type": "code",
   "execution_count": null,
   "metadata": {},
   "outputs": [],
   "source": []
  }
 ],
 "metadata": {
  "kernelspec": {
   "name": "python3",
   "display_name": "Python 3.7.5 64-bit",
   "metadata": {
    "interpreter": {
     "hash": "aee8b7b246df8f9039afb4144a1f6fd8d2ca17a180786b69acc140d282b71a49"
    }
   }
  },
  "language_info": {
   "codemirror_mode": {
    "name": "ipython",
    "version": 3
   },
   "file_extension": ".py",
   "mimetype": "text/x-python",
   "name": "python",
   "nbconvert_exporter": "python",
   "pygments_lexer": "ipython3",
   "version": "3.7.5-final"
  }
 },
 "nbformat": 4,
 "nbformat_minor": 4
}